{
 "cells": [
  {
   "cell_type": "code",
   "execution_count": 8,
   "id": "3ab4d945-9101-4928-9c48-89505bb9ad9a",
   "metadata": {},
   "outputs": [],
   "source": [
    "from datasets import load_dataset\n",
    "MAGE = load_dataset(\"yaful/MAGE\")"
   ]
  },
  {
   "cell_type": "code",
   "execution_count": 9,
   "id": "4d91e51c-e46a-4152-b3c4-48fe9e6fd046",
   "metadata": {},
   "outputs": [
    {
     "name": "stdout",
     "output_type": "stream",
     "text": [
      "README.md: 100%|███████████████████████████| 1.93k/1.93k [00:00<00:00, 5.64MB/s]\n",
      "DeepfakeTextDetect.py: 100%|███████████████| 1.92k/1.92k [00:00<00:00, 2.87MB/s]\n",
      "The repository for yaful/DeepfakeTextDetect contains custom code which must be executed to correctly load the dataset. You can inspect the repository content at https://hf.co/datasets/yaful/DeepfakeTextDetect.\n",
      "You can avoid this prompt in future by passing the argument `trust_remote_code=True`.\n",
      "\n",
      "Do you wish to run the custom code? [y/N] Traceback (most recent call last):\n",
      "  File \"/Users/susannahsu/Desktop/desk/harvard/academics/neurbio_140/final_project/authorship_attribution/uchendu-repo/my_project/data/MAGE/prepare_testbeds.py\", line 72, in <module>\n",
      "    dataset = load_dataset(\"yaful/DeepfakeTextDetect\")\n",
      "              ^^^^^^^^^^^^^^^^^^^^^^^^^^^^^^^^^^^^^^^^\n",
      "  File \"/Library/Frameworks/Python.framework/Versions/3.11/lib/python3.11/site-packages/datasets/load.py\", line 2129, in load_dataset\n",
      "    builder_instance = load_dataset_builder(\n",
      "                       ^^^^^^^^^^^^^^^^^^^^^\n",
      "  File \"/Library/Frameworks/Python.framework/Versions/3.11/lib/python3.11/site-packages/datasets/load.py\", line 1849, in load_dataset_builder\n",
      "    dataset_module = dataset_module_factory(\n",
      "                     ^^^^^^^^^^^^^^^^^^^^^^^\n",
      "  File \"/Library/Frameworks/Python.framework/Versions/3.11/lib/python3.11/site-packages/datasets/load.py\", line 1731, in dataset_module_factory\n",
      "    raise e1 from None\n",
      "  File \"/Library/Frameworks/Python.framework/Versions/3.11/lib/python3.11/site-packages/datasets/load.py\", line 1681, in dataset_module_factory\n",
      "    ).get_module()\n",
      "      ^^^^^^^^^^^^\n",
      "  File \"/Library/Frameworks/Python.framework/Versions/3.11/lib/python3.11/site-packages/datasets/load.py\", line 1331, in get_module\n",
      "    trust_remote_code = resolve_trust_remote_code(self.trust_remote_code, self.name)\n",
      "                        ^^^^^^^^^^^^^^^^^^^^^^^^^^^^^^^^^^^^^^^^^^^^^^^^^^^^^^^^^^^^\n",
      "  File \"/Library/Frameworks/Python.framework/Versions/3.11/lib/python3.11/site-packages/datasets/load.py\", line 138, in resolve_trust_remote_code\n",
      "    raise ValueError(\n",
      "ValueError: The repository for yaful/DeepfakeTextDetect contains custom code which must be executed to correctly load the dataset. You can inspect the repository content at https://hf.co/datasets/yaful/DeepfakeTextDetect.\n",
      "Please pass the argument `trust_remote_code=True` to allow custom code to be run.\n"
     ]
    }
   ],
   "source": []
  },
  {
   "cell_type": "code",
   "execution_count": 10,
   "id": "b0c2c30c-84ca-4bed-87be-97c220a2ac47",
   "metadata": {},
   "outputs": [
    {
     "ename": "NameError",
     "evalue": "name 'y' is not defined",
     "output_type": "error",
     "traceback": [
      "\u001b[0;31m---------------------------------------------------------------------------\u001b[0m",
      "\u001b[0;31mNameError\u001b[0m                                 Traceback (most recent call last)",
      "Cell \u001b[0;32mIn[10], line 1\u001b[0m\n\u001b[0;32m----> 1\u001b[0m \u001b[43my\u001b[49m\n",
      "\u001b[0;31mNameError\u001b[0m: name 'y' is not defined"
     ]
    }
   ],
   "source": [
    "y"
   ]
  },
  {
   "cell_type": "code",
   "execution_count": null,
   "id": "9f77ef49-dba5-4b85-b02c-60b2425fb26f",
   "metadata": {},
   "outputs": [],
   "source": []
  }
 ],
 "metadata": {
  "kernelspec": {
   "display_name": "Python 3 (ipykernel)",
   "language": "python",
   "name": "python3"
  },
  "language_info": {
   "codemirror_mode": {
    "name": "ipython",
    "version": 3
   },
   "file_extension": ".py",
   "mimetype": "text/x-python",
   "name": "python",
   "nbconvert_exporter": "python",
   "pygments_lexer": "ipython3",
   "version": "3.11.5"
  }
 },
 "nbformat": 4,
 "nbformat_minor": 5
}
